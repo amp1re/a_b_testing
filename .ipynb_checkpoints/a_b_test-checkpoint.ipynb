{
 "cells": [
  {
   "cell_type": "markdown",
   "metadata": {},
   "source": [
    "****Задача: проанализировать результаты АБ-теста и составить предложения по результатам анализа.\n",
    "В файле FRU_analytics_test.csv находятся исходные данные АБ-теста:****\n",
    "- ClientID - ID пользователя, попавшего в тест\n",
    "- tag - группа, в которую попал пользователь (control/test)\n",
    "- donation_type - тип пожертвования (one-time - разовое пожертвование, recurring -\n",
    "регулярное пожертвование с частотой раз в месяц). Если ‘-‘, то пользователь не\n",
    "совершал пожертвование\n",
    "- AmountInUSD - размер пожертвования в $. Если ‘-‘, то пользователь не совершал\n",
    "пожертвование"
   ]
  },
  {
   "cell_type": "markdown",
   "metadata": {},
   "source": [
    "__________"
   ]
  },
  {
   "cell_type": "markdown",
   "metadata": {},
   "source": [
    "**Решение**"
   ]
  },
  {
   "cell_type": "markdown",
   "metadata": {},
   "source": [
    "***Подключение библиотек и скриптов***"
   ]
  },
  {
   "cell_type": "code",
   "execution_count": 1,
   "metadata": {},
   "outputs": [],
   "source": [
    "import pandas as pd\n",
    "from datetime import date, timedelta, datetime\n",
    "import numpy as np\n",
    "from scipy import stats\n",
    "from statsmodels.sandbox.stats.multicomp import multipletests\n",
    "import numpy as np, scipy.stats as st\n",
    "\n",
    "import matplotlib\n",
    "import matplotlib.pyplot as plt\n",
    "import seaborn as sns\n",
    "\n",
    "%matplotlib inline"
   ]
  },
  {
   "cell_type": "code",
   "execution_count": 2,
   "metadata": {},
   "outputs": [],
   "source": [
    "import warnings\n",
    "warnings.filterwarnings('ignore')"
   ]
  },
  {
   "cell_type": "code",
   "execution_count": 3,
   "metadata": {
    "scrolled": true
   },
   "outputs": [],
   "source": [
    "matplotlib.rcParams.update({'font.size': 14})"
   ]
  },
  {
   "cell_type": "code",
   "execution_count": 4,
   "metadata": {},
   "outputs": [],
   "source": [
    "def reduce_mem_usage(df):\n",
    "\n",
    "    start_mem = df.memory_usage().sum() / 1024**2\n",
    "    print('Memory usage of dataframe is {:.2f} MB'.format(start_mem))\n",
    "    \n",
    "    for col in df.columns:\n",
    "        col_type = df[col].dtype\n",
    "             \n",
    "        if col_type != object:\n",
    "            c_min = df[col].min()\n",
    "            c_max = df[col].max()\n",
    "            if str(col_type)[:3] == 'int':\n",
    "                if c_min > np.iinfo(np.int8).min and c_max < np.iinfo(np.int8).max:\n",
    "                    df[col] = df[col].astype(np.int8)\n",
    "                elif c_min > np.iinfo(np.int16).min and c_max < np.iinfo(np.int16).max:\n",
    "                    df[col] = df[col].astype(np.int16)\n",
    "                elif c_min > np.iinfo(np.int32).min and c_max < np.iinfo(np.int32).max:\n",
    "                    df[col] = df[col].astype(np.int32)\n",
    "                elif c_min > np.iinfo(np.int64).min and c_max < np.iinfo(np.int64).max:\n",
    "                    df[col] = df[col].astype(np.int64)  \n",
    "            else:\n",
    "                if c_min > np.finfo(np.float32).min and c_max < np.finfo(np.float32).max:\n",
    "                    df[col] = df[col].astype(np.float32)\n",
    "                else:\n",
    "                    df[col] = df[col].astype(np.float64)\n",
    "        else:\n",
    "            df[col] = df[col].astype('category')\n",
    "\n",
    "    end_mem = df.memory_usage().sum() / 1024**2\n",
    "    print('Memory usage after optimization is: {:.2f} MB'.format(end_mem))\n",
    "    print('Decreased by {:.1f}%'.format(100 * (start_mem - end_mem) / start_mem))\n",
    "    \n",
    "    return df"
   ]
  },
  {
   "cell_type": "markdown",
   "metadata": {},
   "source": [
    "***Путь к директориям и файлам***"
   ]
  },
  {
   "cell_type": "code",
   "execution_count": 5,
   "metadata": {},
   "outputs": [],
   "source": [
    "DATASET_PATH = './FRU_data_task1.csv'"
   ]
  },
  {
   "cell_type": "markdown",
   "metadata": {},
   "source": [
    "**Загрузка данных**"
   ]
  },
  {
   "cell_type": "code",
   "execution_count": 6,
   "metadata": {},
   "outputs": [],
   "source": [
    "data_df = pd.read_csv(DATASET_PATH)"
   ]
  },
  {
   "cell_type": "markdown",
   "metadata": {},
   "source": [
    "**Приведение типов**"
   ]
  },
  {
   "cell_type": "code",
   "execution_count": 7,
   "metadata": {
    "scrolled": true
   },
   "outputs": [
    {
     "data": {
      "text/plain": [
       "ClientID          int64\n",
       "tag              object\n",
       "donation_type    object\n",
       "AmountInUSD      object\n",
       "dtype: object"
      ]
     },
     "execution_count": 7,
     "metadata": {},
     "output_type": "execute_result"
    }
   ],
   "source": [
    "data_df.dtypes"
   ]
  },
  {
   "cell_type": "code",
   "execution_count": 8,
   "metadata": {},
   "outputs": [],
   "source": [
    "data_df['ClientID'] = data_df['ClientID'].astype(str)\n",
    "data_df['tag'] = data_df['tag'].astype(str)\n",
    "data_df['donation_type'] = data_df['donation_type'].astype(str)\n",
    "data_df['AmountInUSD'] = np.where((data_df['AmountInUSD'] == '-'), 0, data_df['AmountInUSD'])\n",
    "data_df['AmountInUSD'] = data_df['AmountInUSD'].astype(np.float64)"
   ]
  },
  {
   "cell_type": "code",
   "execution_count": 9,
   "metadata": {},
   "outputs": [
    {
     "name": "stdout",
     "output_type": "stream",
     "text": [
      "Memory usage of dataframe is 0.62 MB\n",
      "Memory usage after optimization is: 0.93 MB\n",
      "Decreased by -50.7%\n"
     ]
    },
    {
     "data": {
      "text/html": [
       "<div>\n",
       "<style scoped>\n",
       "    .dataframe tbody tr th:only-of-type {\n",
       "        vertical-align: middle;\n",
       "    }\n",
       "\n",
       "    .dataframe tbody tr th {\n",
       "        vertical-align: top;\n",
       "    }\n",
       "\n",
       "    .dataframe thead th {\n",
       "        text-align: right;\n",
       "    }\n",
       "</style>\n",
       "<table border=\"1\" class=\"dataframe\">\n",
       "  <thead>\n",
       "    <tr style=\"text-align: right;\">\n",
       "      <th></th>\n",
       "      <th>ClientID</th>\n",
       "      <th>tag</th>\n",
       "      <th>donation_type</th>\n",
       "      <th>AmountInUSD</th>\n",
       "    </tr>\n",
       "  </thead>\n",
       "  <tbody>\n",
       "    <tr>\n",
       "      <th>0</th>\n",
       "      <td>218590767</td>\n",
       "      <td>control</td>\n",
       "      <td>-</td>\n",
       "      <td>0.0</td>\n",
       "    </tr>\n",
       "    <tr>\n",
       "      <th>1</th>\n",
       "      <td>711128717</td>\n",
       "      <td>control</td>\n",
       "      <td>one-time</td>\n",
       "      <td>113.0</td>\n",
       "    </tr>\n",
       "    <tr>\n",
       "      <th>2</th>\n",
       "      <td>621634461</td>\n",
       "      <td>control</td>\n",
       "      <td>one-time</td>\n",
       "      <td>137.0</td>\n",
       "    </tr>\n",
       "    <tr>\n",
       "      <th>3</th>\n",
       "      <td>991325630</td>\n",
       "      <td>test</td>\n",
       "      <td>-</td>\n",
       "      <td>0.0</td>\n",
       "    </tr>\n",
       "    <tr>\n",
       "      <th>4</th>\n",
       "      <td>687831879</td>\n",
       "      <td>control</td>\n",
       "      <td>-</td>\n",
       "      <td>0.0</td>\n",
       "    </tr>\n",
       "    <tr>\n",
       "      <th>...</th>\n",
       "      <td>...</td>\n",
       "      <td>...</td>\n",
       "      <td>...</td>\n",
       "      <td>...</td>\n",
       "    </tr>\n",
       "    <tr>\n",
       "      <th>20228</th>\n",
       "      <td>245090287</td>\n",
       "      <td>control</td>\n",
       "      <td>-</td>\n",
       "      <td>0.0</td>\n",
       "    </tr>\n",
       "    <tr>\n",
       "      <th>20229</th>\n",
       "      <td>653085909</td>\n",
       "      <td>test</td>\n",
       "      <td>-</td>\n",
       "      <td>0.0</td>\n",
       "    </tr>\n",
       "    <tr>\n",
       "      <th>20230</th>\n",
       "      <td>604992228</td>\n",
       "      <td>test</td>\n",
       "      <td>-</td>\n",
       "      <td>0.0</td>\n",
       "    </tr>\n",
       "    <tr>\n",
       "      <th>20231</th>\n",
       "      <td>875340687</td>\n",
       "      <td>control</td>\n",
       "      <td>recurring</td>\n",
       "      <td>39.0</td>\n",
       "    </tr>\n",
       "    <tr>\n",
       "      <th>20232</th>\n",
       "      <td>460360378</td>\n",
       "      <td>test</td>\n",
       "      <td>-</td>\n",
       "      <td>0.0</td>\n",
       "    </tr>\n",
       "  </tbody>\n",
       "</table>\n",
       "<p>20233 rows × 4 columns</p>\n",
       "</div>"
      ],
      "text/plain": [
       "        ClientID      tag donation_type  AmountInUSD\n",
       "0      218590767  control             -          0.0\n",
       "1      711128717  control      one-time        113.0\n",
       "2      621634461  control      one-time        137.0\n",
       "3      991325630     test             -          0.0\n",
       "4      687831879  control             -          0.0\n",
       "...          ...      ...           ...          ...\n",
       "20228  245090287  control             -          0.0\n",
       "20229  653085909     test             -          0.0\n",
       "20230  604992228     test             -          0.0\n",
       "20231  875340687  control     recurring         39.0\n",
       "20232  460360378     test             -          0.0\n",
       "\n",
       "[20233 rows x 4 columns]"
      ]
     },
     "execution_count": 9,
     "metadata": {},
     "output_type": "execute_result"
    }
   ],
   "source": [
    "reduce_mem_usage(data_df)"
   ]
  },
  {
   "cell_type": "code",
   "execution_count": 10,
   "metadata": {},
   "outputs": [
    {
     "data": {
      "text/plain": [
       "ClientID         category\n",
       "tag              category\n",
       "donation_type    category\n",
       "AmountInUSD       float32\n",
       "dtype: object"
      ]
     },
     "execution_count": 10,
     "metadata": {},
     "output_type": "execute_result"
    }
   ],
   "source": [
    "data_df.dtypes"
   ]
  },
  {
   "cell_type": "markdown",
   "metadata": {},
   "source": [
    "**Первичный визуальный анализ данных**"
   ]
  },
  {
   "cell_type": "code",
   "execution_count": 11,
   "metadata": {
    "scrolled": true
   },
   "outputs": [
    {
     "data": {
      "text/html": [
       "<div>\n",
       "<style scoped>\n",
       "    .dataframe tbody tr th:only-of-type {\n",
       "        vertical-align: middle;\n",
       "    }\n",
       "\n",
       "    .dataframe tbody tr th {\n",
       "        vertical-align: top;\n",
       "    }\n",
       "\n",
       "    .dataframe thead th {\n",
       "        text-align: right;\n",
       "    }\n",
       "</style>\n",
       "<table border=\"1\" class=\"dataframe\">\n",
       "  <thead>\n",
       "    <tr style=\"text-align: right;\">\n",
       "      <th></th>\n",
       "      <th>ClientID</th>\n",
       "      <th>tag</th>\n",
       "      <th>donation_type</th>\n",
       "      <th>AmountInUSD</th>\n",
       "    </tr>\n",
       "  </thead>\n",
       "  <tbody>\n",
       "    <tr>\n",
       "      <th>0</th>\n",
       "      <td>218590767</td>\n",
       "      <td>control</td>\n",
       "      <td>-</td>\n",
       "      <td>0.0</td>\n",
       "    </tr>\n",
       "    <tr>\n",
       "      <th>1</th>\n",
       "      <td>711128717</td>\n",
       "      <td>control</td>\n",
       "      <td>one-time</td>\n",
       "      <td>113.0</td>\n",
       "    </tr>\n",
       "    <tr>\n",
       "      <th>2</th>\n",
       "      <td>621634461</td>\n",
       "      <td>control</td>\n",
       "      <td>one-time</td>\n",
       "      <td>137.0</td>\n",
       "    </tr>\n",
       "    <tr>\n",
       "      <th>3</th>\n",
       "      <td>991325630</td>\n",
       "      <td>test</td>\n",
       "      <td>-</td>\n",
       "      <td>0.0</td>\n",
       "    </tr>\n",
       "    <tr>\n",
       "      <th>4</th>\n",
       "      <td>687831879</td>\n",
       "      <td>control</td>\n",
       "      <td>-</td>\n",
       "      <td>0.0</td>\n",
       "    </tr>\n",
       "  </tbody>\n",
       "</table>\n",
       "</div>"
      ],
      "text/plain": [
       "    ClientID      tag donation_type  AmountInUSD\n",
       "0  218590767  control             -          0.0\n",
       "1  711128717  control      one-time        113.0\n",
       "2  621634461  control      one-time        137.0\n",
       "3  991325630     test             -          0.0\n",
       "4  687831879  control             -          0.0"
      ]
     },
     "execution_count": 11,
     "metadata": {},
     "output_type": "execute_result"
    }
   ],
   "source": [
    "# Первые пять строк\n",
    "data_df[:5]"
   ]
  },
  {
   "cell_type": "markdown",
   "metadata": {},
   "source": [
    "Посмотрим на количество клиентов, у которых не было оплат в тестовой и контрольной группе:"
   ]
  },
  {
   "cell_type": "code",
   "execution_count": 12,
   "metadata": {},
   "outputs": [],
   "source": [
    "control_df = data_df.loc[data_df['tag'] == 'control']\n",
    "test_df = data_df.loc[data_df['tag'] == 'test']"
   ]
  },
  {
   "cell_type": "code",
   "execution_count": 13,
   "metadata": {},
   "outputs": [],
   "source": [
    "control_no_pay = data_df[(data_df['tag']=='control') & (data_df['donation_type']=='-')]\n",
    "test_no_pay = data_df[(data_df['tag']=='test') & (data_df['donation_type']=='-')]"
   ]
  },
  {
   "cell_type": "code",
   "execution_count": 14,
   "metadata": {},
   "outputs": [
    {
     "data": {
      "text/plain": [
       "(8277, 8252)"
      ]
     },
     "execution_count": 14,
     "metadata": {},
     "output_type": "execute_result"
    }
   ],
   "source": [
    "control_no_pay.shape[0], test_no_pay.shape[0]"
   ]
  },
  {
   "cell_type": "markdown",
   "metadata": {},
   "source": [
    "Посмотрим сколько клиентов не платят в каждой группе в процентном выражении"
   ]
  },
  {
   "cell_type": "code",
   "execution_count": 15,
   "metadata": {},
   "outputs": [
    {
     "name": "stdout",
     "output_type": "stream",
     "text": [
      "Процент клиентов, которые не платят в группе control: 82.4%\n",
      "Процент клиентов, которые не платят в группе test: 81.0%\n"
     ]
    }
   ],
   "source": [
    "pay_ratio_control = control_no_pay.shape[0] / control_df.shape[0]\n",
    "pay_ratio_test = test_no_pay.shape[0] / test_df.shape[0]\n",
    "\n",
    "print('Процент клиентов, которые не платят в группе control: {:.1f}%\\n'\n",
    "     'Процент клиентов, которые не платят в группе test: {:.1f}%'.format(pay_ratio_control*100, pay_ratio_test*100))"
   ]
  },
  {
   "cell_type": "markdown",
   "metadata": {},
   "source": [
    "Отбросим всех клиентов, платежи которых не поступали"
   ]
  },
  {
   "cell_type": "code",
   "execution_count": 16,
   "metadata": {},
   "outputs": [],
   "source": [
    "data_pay_df = data_df.loc[data_df['donation_type'] != '-']"
   ]
  },
  {
   "cell_type": "code",
   "execution_count": 17,
   "metadata": {},
   "outputs": [
    {
     "data": {
      "image/png": "[encoded data removed]",
      "text/plain": [
       "<Figure size 432x288 with 1 Axes>"
      ]
     },
     "metadata": {
      "needs_background": "light"
     },
     "output_type": "display_data"
    }
   ],
   "source": [
    "sns.countplot(x = 'tag', data = data_pay_df)\n",
    "plt.show()"
   ]
  },
  {
   "cell_type": "markdown",
   "metadata": {},
   "source": [
    "Нас интересуют значения в категория \"donation_type\" и \"AmountInUSD\". Поэтому посмотрим на состав значений в этих категориях"
   ]
  },
  {
   "cell_type": "markdown",
   "metadata": {},
   "source": [
    "Посмотрим как выглядит AmountInUSD"
   ]
  },
  {
   "cell_type": "code",
   "execution_count": 18,
   "metadata": {},
   "outputs": [
    {
     "data": {
      "image/png": "[encoded data removed]",
      "text/plain": [
       "<Figure size 1440x216 with 1 Axes>"
      ]
     },
     "metadata": {
      "needs_background": "light"
     },
     "output_type": "display_data"
    }
   ],
   "source": [
    "plt.figure(figsize=(20, 3))\n",
    "\n",
    "sns.boxplot(data_pay_df['AmountInUSD'], whis=2.5)\n",
    "\n",
    "plt.xlabel('AmountInUSD')\n",
    "plt.show()"
   ]
  },
  {
   "cell_type": "markdown",
   "metadata": {},
   "source": [
    "Удалим выбросы, чтобы они не влияли"
   ]
  },
  {
   "cell_type": "code",
   "execution_count": 19,
   "metadata": {},
   "outputs": [],
   "source": [
    "iqr = data_pay_df['AmountInUSD'].quantile(.75) - data_pay_df['AmountInUSD'].quantile(.25)"
   ]
  },
  {
   "cell_type": "markdown",
   "metadata": {},
   "source": [
    "Буду считать выбросом сверху все, что лежит выше quantile(.75) + 1.5iqr"
   ]
  },
  {
   "cell_type": "code",
   "execution_count": 20,
   "metadata": {},
   "outputs": [],
   "source": [
    "data_pay_df = data_pay_df.loc[data_pay_df['AmountInUSD'] < (data_pay_df['AmountInUSD'].quantile(.75) + 1.5*iqr)]"
   ]
  },
  {
   "cell_type": "code",
   "execution_count": 21,
   "metadata": {},
   "outputs": [
    {
     "data": {
      "image/png": "[encoded data removed]",
      "text/plain": [
       "<Figure size 1440x216 with 1 Axes>"
      ]
     },
     "metadata": {
      "needs_background": "light"
     },
     "output_type": "display_data"
    }
   ],
   "source": [
    "plt.figure(figsize=(20, 3))\n",
    "\n",
    "sns.boxplot(data_pay_df['AmountInUSD'], whis=2.5)\n",
    "\n",
    "plt.xlabel('AmountInUSD')\n",
    "plt.show()"
   ]
  },
  {
   "cell_type": "code",
   "execution_count": 22,
   "metadata": {
    "scrolled": true
   },
   "outputs": [
    {
     "data": {
      "text/plain": [
       "<AxesSubplot:ylabel='Frequency'>"
      ]
     },
     "execution_count": 22,
     "metadata": {},
     "output_type": "execute_result"
    },
    {
     "data": {
      "image/png": "[encoded data removed]",
      "text/plain": [
       "<Figure size 432x288 with 1 Axes>"
      ]
     },
     "metadata": {
      "needs_background": "light"
     },
     "output_type": "display_data"
    }
   ],
   "source": [
    "data_pay_df['AmountInUSD'].plot(kind='hist')"
   ]
  },
  {
   "cell_type": "code",
   "execution_count": 24,
   "metadata": {},
   "outputs": [
    {
     "data": {
      "text/plain": [
       "<AxesSubplot:ylabel='Frequency'>"
      ]
     },
     "execution_count": 24,
     "metadata": {},
     "output_type": "execute_result"
    },
    {
     "data": {
      "image/png": "[encoded data removed]",
      "text/plain": [
       "<Figure size 432x288 with 1 Axes>"
      ]
     },
     "metadata": {
      "needs_background": "light"
     },
     "output_type": "display_data"
    }
   ],
   "source": [
    "test_pay_df = data_pay_df.loc[data_pay_df['tag'] == 'test']\n",
    "control_pay_df = data_pay_df.loc[data_pay_df['tag'] == 'control']"
   ]
  },
  {
   "cell_type": "markdown",
   "metadata": {},
   "source": [
    "Посмотрим на \"donation_type\""
   ]
  },
  {
   "cell_type": "code",
   "execution_count": 25,
   "metadata": {},
   "outputs": [
    {
     "data": {
      "image/png": "[encoded data removed]",
      "text/plain": [
       "<Figure size 576x576 with 1 Axes>"
      ]
     },
     "metadata": {
      "needs_background": "light"
     },
     "output_type": "display_data"
    }
   ],
   "source": [
    "plt.figure(figsize=(8, 8))\n",
    "\n",
    "sns.countplot(x=\"donation_type\", hue='tag', data=data_pay_df)\n",
    "plt.title('Donation_type grouped by tag variable')\n",
    "plt.legend(title='tag', loc='upper right')\n",
    "\n",
    "plt.show()"
   ]
  },
  {
   "cell_type": "markdown",
   "metadata": {},
   "source": [
    "Посмотрим соотношение оплат в обеих группах"
   ]
  },
  {
   "cell_type": "code",
   "execution_count": 26,
   "metadata": {},
   "outputs": [
    {
     "name": "stdout",
     "output_type": "stream",
     "text": [
      "Процент клиентов, которые платят один раз в группе control: 93.7%\n",
      "Процент клиентов, которые платят один раз test: 96.7%\n"
     ]
    }
   ],
   "source": [
    "type_ratio_control = control_pay_df[control_pay_df['donation_type'] == 'one-time'].shape[0] \\\n",
    "                        / control_pay_df.shape[0]\n",
    "type_ratio_test = test_pay_df[test_pay_df['donation_type'] == 'one-time'].shape[0] \\\n",
    "                        / test_pay_df.shape[0]\n",
    "\n",
    "print('Процент клиентов, которые платят один раз в группе control: {:.1f}%\\n'\n",
    "     'Процент клиентов, которые платят один раз test: {:.1f}%'.format(type_ratio_control*100, type_ratio_test*100))"
   ]
  },
  {
   "cell_type": "code",
   "execution_count": 28,
   "metadata": {},
   "outputs": [
    {
     "data": {
      "text/html": [
       "<div>\n",
       "<style scoped>\n",
       "    .dataframe tbody tr th:only-of-type {\n",
       "        vertical-align: middle;\n",
       "    }\n",
       "\n",
       "    .dataframe tbody tr th {\n",
       "        vertical-align: top;\n",
       "    }\n",
       "\n",
       "    .dataframe thead th {\n",
       "        text-align: right;\n",
       "    }\n",
       "</style>\n",
       "<table border=\"1\" class=\"dataframe\">\n",
       "  <thead>\n",
       "    <tr style=\"text-align: right;\">\n",
       "      <th></th>\n",
       "      <th>AmountInUSD</th>\n",
       "    </tr>\n",
       "  </thead>\n",
       "  <tbody>\n",
       "    <tr>\n",
       "      <th>count</th>\n",
       "      <td>1920.000000</td>\n",
       "    </tr>\n",
       "    <tr>\n",
       "      <th>mean</th>\n",
       "      <td>76.566666</td>\n",
       "    </tr>\n",
       "    <tr>\n",
       "      <th>std</th>\n",
       "      <td>49.415134</td>\n",
       "    </tr>\n",
       "    <tr>\n",
       "      <th>min</th>\n",
       "      <td>10.000000</td>\n",
       "    </tr>\n",
       "    <tr>\n",
       "      <th>25%</th>\n",
       "      <td>39.000000</td>\n",
       "    </tr>\n",
       "    <tr>\n",
       "      <th>50%</th>\n",
       "      <td>70.000000</td>\n",
       "    </tr>\n",
       "    <tr>\n",
       "      <th>75%</th>\n",
       "      <td>100.000000</td>\n",
       "    </tr>\n",
       "    <tr>\n",
       "      <th>max</th>\n",
       "      <td>196.000000</td>\n",
       "    </tr>\n",
       "  </tbody>\n",
       "</table>\n",
       "</div>"
      ],
      "text/plain": [
       "       AmountInUSD\n",
       "count  1920.000000\n",
       "mean     76.566666\n",
       "std      49.415134\n",
       "min      10.000000\n",
       "25%      39.000000\n",
       "50%      70.000000\n",
       "75%     100.000000\n",
       "max     196.000000"
      ]
     },
     "execution_count": 28,
     "metadata": {},
     "output_type": "execute_result"
    }
   ],
   "source": [
    "test_pay_df.describe()"
   ]
  },
  {
   "cell_type": "code",
   "execution_count": 29,
   "metadata": {},
   "outputs": [
    {
     "data": {
      "text/html": [
       "<div>\n",
       "<style scoped>\n",
       "    .dataframe tbody tr th:only-of-type {\n",
       "        vertical-align: middle;\n",
       "    }\n",
       "\n",
       "    .dataframe tbody tr th {\n",
       "        vertical-align: top;\n",
       "    }\n",
       "\n",
       "    .dataframe thead th {\n",
       "        text-align: right;\n",
       "    }\n",
       "</style>\n",
       "<table border=\"1\" class=\"dataframe\">\n",
       "  <thead>\n",
       "    <tr style=\"text-align: right;\">\n",
       "      <th></th>\n",
       "      <th>AmountInUSD</th>\n",
       "    </tr>\n",
       "  </thead>\n",
       "  <tbody>\n",
       "    <tr>\n",
       "      <th>count</th>\n",
       "      <td>1751.000000</td>\n",
       "    </tr>\n",
       "    <tr>\n",
       "      <th>mean</th>\n",
       "      <td>83.344376</td>\n",
       "    </tr>\n",
       "    <tr>\n",
       "      <th>std</th>\n",
       "      <td>47.884331</td>\n",
       "    </tr>\n",
       "    <tr>\n",
       "      <th>min</th>\n",
       "      <td>10.000000</td>\n",
       "    </tr>\n",
       "    <tr>\n",
       "      <th>25%</th>\n",
       "      <td>50.000000</td>\n",
       "    </tr>\n",
       "    <tr>\n",
       "      <th>50%</th>\n",
       "      <td>75.000000</td>\n",
       "    </tr>\n",
       "    <tr>\n",
       "      <th>75%</th>\n",
       "      <td>112.000000</td>\n",
       "    </tr>\n",
       "    <tr>\n",
       "      <th>max</th>\n",
       "      <td>196.000000</td>\n",
       "    </tr>\n",
       "  </tbody>\n",
       "</table>\n",
       "</div>"
      ],
      "text/plain": [
       "       AmountInUSD\n",
       "count  1751.000000\n",
       "mean     83.344376\n",
       "std      47.884331\n",
       "min      10.000000\n",
       "25%      50.000000\n",
       "50%      75.000000\n",
       "75%     112.000000\n",
       "max     196.000000"
      ]
     },
     "execution_count": 29,
     "metadata": {},
     "output_type": "execute_result"
    }
   ],
   "source": [
    "control_pay_df.describe()"
   ]
  },
  {
   "cell_type": "code",
   "execution_count": 33,
   "metadata": {},
   "outputs": [
    {
     "name": "stdout",
     "output_type": "stream",
     "text": [
      "Разница между средними в процентах от значения до внедрения: AmountInUSD   -8.132174\n",
      "dtype: float64\n"
     ]
    }
   ],
   "source": [
    "print(\"Разница между средними в процентах от значения до внедрения:\", \n",
    "      (test_pay_df.mean() - control_pay_df.mean())/control_pay_df.mean()*100)"
   ]
  },
  {
   "cell_type": "code",
   "execution_count": 34,
   "metadata": {},
   "outputs": [
    {
     "name": "stdout",
     "output_type": "stream",
     "text": [
      "Разница между медианами в процентах от значения до внедрения: AmountInUSD   -6.666667\n",
      "dtype: float64\n"
     ]
    }
   ],
   "source": [
    "print(\"Разница между медианами в процентах от значения до внедрения:\", \n",
    "      (test_pay_df.median() - control_pay_df.median())/control_pay_df.median()*100)"
   ]
  },
  {
   "cell_type": "markdown",
   "metadata": {},
   "source": [
    "По полученным данным видим что AmountInUSD после того как было убрано предзаполнение поля ввода суммы уменьшилась в среднем на 7,3 процента. Теперь статистически проверим гипотезу о том что отстутсвие предзаполнение поля ввода суммы действительно влияет."
   ]
  },
  {
   "cell_type": "markdown",
   "metadata": {},
   "source": [
    "Построим доверительные интервалы для медиан и средних значений оплат до test и сontrol."
   ]
  },
  {
   "cell_type": "markdown",
   "metadata": {},
   "source": [
    "#### Интервальная оценка медианы"
   ]
  },
  {
   "cell_type": "code",
   "execution_count": 50,
   "metadata": {},
   "outputs": [
    {
     "name": "stdout",
     "output_type": "stream",
     "text": [
      "95% доверительный интервал для значений медианы конверсии до внедрения: (72.75560749060385, 77.24439250939615)\n",
      "95% доверительный интервал для значений медианы конверсии после внедрения: (67.78827260852484, 72.21172739147516)\n"
     ]
    }
   ],
   "source": [
    "# Доверительные интервалы для медиан\n",
    "\n",
    "before_median_stat_intervals = st.t.interval(0.95, len(control_pay_df)-1,\n",
    "                                             loc=np.median(control_pay_df['AmountInUSD']), \n",
    "                                             scale=st.sem(control_pay_df['AmountInUSD']))\n",
    "\n",
    "\n",
    "\n",
    "\n",
    "\n",
    "after_median_stat_intervals = st.t.interval(0.95, len(test_pay_df)-1, \\\n",
    "                                            loc=np.median(test_pay_df['AmountInUSD']), \\\n",
    "                                            scale=st.sem(test_pay_df['AmountInUSD']))\n",
    "\n",
    "print(\"95% доверительный интервал для значений медианы AmountInUS  до внедрения:\", \\\n",
    "     before_median_stat_intervals)\n",
    "print(\"95% доверительный интервал для значений медианы AmountInUS после внедрения:\", \\\n",
    "      after_median_stat_intervals)"
   ]
  },
  {
   "cell_type": "markdown",
   "metadata": {},
   "source": [
    "####  Интервальная оценка средних"
   ]
  },
  {
   "cell_type": "code",
   "execution_count": 51,
   "metadata": {},
   "outputs": [
    {
     "name": "stdout",
     "output_type": "stream",
     "text": [
      "95% доверительный интервал для значений средней конверсии до внедрения: (81.09998310095541, 85.58876811974771)\n",
      "95% доверительный интервал для значений средней конверсии после внедрения: (74.3549382579389, 78.77839304088923)\n"
     ]
    }
   ],
   "source": [
    "# Доверительные интервалы для средних\n",
    "\n",
    "before_mean_stat_intervals = st.t.interval(0.95, len(control_pay_df)-1, \n",
    "                                           loc=np.mean(control_pay_df['AmountInUSD']), \n",
    "                                           scale=st.sem(control_pay_df['AmountInUSD']))\n",
    "after_mean_stat_intervals = st.t.interval(0.95, len(test_pay_df)-1, \n",
    "                                          loc=np.mean(test_pay_df['AmountInUSD']), \n",
    "                                          scale=st.sem(test_pay_df['AmountInUSD']))\n",
    "\n",
    "print(\"95% доверительный интервал для значений средней AmountInUS до внедрения:\", before_mean_stat_intervals)\n",
    "print(\"95% доверительный интервал для значений средней AmountInUS после внедрения:\", after_mean_stat_intervals)"
   ]
  },
  {
   "cell_type": "markdown",
   "metadata": {},
   "source": [
    "***Оценка различий между данными до и после при помощи критерия Манна — Уитни***"
   ]
  },
  {
   "cell_type": "code",
   "execution_count": 119,
   "metadata": {},
   "outputs": [
    {
     "name": "stdout",
     "output_type": "stream",
     "text": [
      "Критерий Манна — Уитни 1.0482048340947425e-06\n"
     ]
    }
   ],
   "source": [
    "statistic, pvalue = stats.mannwhitneyu(control_amount, test_amount)\n",
    "print(\"Критерий Манна — Уитни\", pvalue)"
   ]
  },
  {
   "cell_type": "markdown",
   "metadata": {},
   "source": [
    "#### Поправка Холма-Бонферрони"
   ]
  },
  {
   "cell_type": "code",
   "execution_count": 120,
   "metadata": {},
   "outputs": [
    {
     "name": "stdout",
     "output_type": "stream",
     "text": [
      "[ True]\n",
      "[1.04820483e-06]\n"
     ]
    }
   ],
   "source": [
    "reject, p_corrected, a1, a2 = multipletests(pvalue, alpha = 0.01, method = 'bonferroni')\n",
    "print(reject)\n",
    "print(p_corrected)"
   ]
  },
  {
   "cell_type": "markdown",
   "metadata": {},
   "source": [
    "Вероятность появления ошибки мала"
   ]
  },
  {
   "cell_type": "markdown",
   "metadata": {},
   "source": [
    "#### В итоге, изменения значений AmountInUSD статистически значимы. \n",
    "#### Значит на основании данного анализа можно утвержать, что лучше оставить предзаполнение поля ввода суммы. \n",
    "#### Потом, возможно, следует  провести другие АБ тестирования по изменению саммой сумму в большую или меньшую сторону"
   ]
  }
 ],
 "metadata": {
  "kernelspec": {
   "display_name": "Python 3",
   "language": "python",
   "name": "python3"
  },
  "language_info": {
   "codemirror_mode": {
    "name": "ipython",
    "version": 3
   },
   "file_extension": ".py",
   "mimetype": "text/x-python",
   "name": "python",
   "nbconvert_exporter": "python",
   "pygments_lexer": "ipython3",
   "version": "3.8.5"
  }
 },
 "nbformat": 4,
 "nbformat_minor": 4
}
